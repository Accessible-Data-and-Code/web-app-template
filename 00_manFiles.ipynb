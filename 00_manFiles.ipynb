{
 "cells": [
  {
   "cell_type": "markdown",
   "metadata": {},
   "source": [
    "# manFiles\n",
    "\n",
    "> This module has commands to handle the manuscript file structure"
   ]
  },
  {
   "cell_type": "code",
   "execution_count": 1,
   "metadata": {
    "tags": []
   },
   "outputs": [],
   "source": [
    "#| default_exp core"
   ]
  },
  {
   "cell_type": "code",
   "execution_count": 2,
   "metadata": {
    "tags": []
   },
   "outputs": [],
   "source": [
    "#| hide\n",
    "from nbdev.showdoc import *"
   ]
  },
  {
   "cell_type": "code",
   "execution_count": null,
   "metadata": {},
   "outputs": [],
   "source": [
    "#| export\n",
    "def createManuscriptDirectory():\n",
    "    # This function creates a directory and directory file for a new manuscript\n",
    "    import os\n",
    "    \n",
    "    baseDirectory = os.getcwd()\n",
    "    os.chdir('manuscripts')\n",
    "    \n",
    "    title = directoryNameClean(metadata['Work'])\n",
    "    f = open(title + '.txt', 'w')\n",
    "    \n",
    "    for data in metadata:\n",
    "        f.writelines"
   ]
  },
  {
   "cell_type": "code",
   "execution_count": 102,
   "metadata": {
    "tags": []
   },
   "outputs": [
    {
     "name": "stdout",
     "output_type": "stream",
     "text": [
      "C:\\Users\\David\\web-app-template\n",
      "C:\\Users\\David\\web-app-template\\manuscripts\n",
      "C:\\Users\\David\\web-app-template\n"
     ]
    }
   ],
   "source": [
    "# Testing for createManuscriptDirectory\n",
    "import os\n",
    "\n",
    "path = os.getcwd()\n",
    "print(path)\n",
    "\n",
    "os.chdir('manuscripts')\n",
    "path1 = os.getcwd()\n",
    "print(path1)\n",
    "\n",
    "f = open('test.txt','w')\n",
    "for i in range(10):\n",
    "    f.writelines('a\\n')\n",
    "f.close()\n",
    "\n",
    "os.chdir(path)\n",
    "path2 = os.getcwd()\n",
    "print(path2)"
   ]
  },
  {
   "cell_type": "code",
   "execution_count": 99,
   "metadata": {
    "tags": []
   },
   "outputs": [
    {
     "name": "stdout",
     "output_type": "stream",
     "text": [
      "['brand']\n",
      "['brand', 'model']\n",
      "['brand', 'model', 'year']\n",
      " \n",
      "['Ford']\n",
      "['Ford', 'Mustang']\n",
      "['Ford', 'Mustang', 1964]\n",
      "brand:Ford\n",
      "model:Mustang\n",
      "year:1964\n",
      "{'brand': 'Ford', 'model': 'Mustang', 'year': 1964}\n"
     ]
    }
   ],
   "source": [
    "# Testing dictionary properties for metadata input of createManuscriptDirectory\n",
    "\n",
    "thisdict = {\n",
    "  \"brand\": \"Ford\",\n",
    "  \"model\": \"Mustang\",\n",
    "  \"year\": 1964\n",
    "}\n",
    "\n",
    "keys = []\n",
    "for key in thisdict.keys():\n",
    "    keys.append(key)\n",
    "    print(keys)\n",
    "\n",
    "print(' ')\n",
    "\n",
    "values = []\n",
    "for value in thisdict.values():\n",
    "    values.append(value)\n",
    "    print(values)\n",
    "\n",
    "for i in range(len(keys)):\n",
    "    print(str(keys[i]) + ':' + str(values[i]))"
   ]
  },
  {
   "cell_type": "code",
   "execution_count": 49,
   "metadata": {
    "tags": []
   },
   "outputs": [],
   "source": [
    "#| export\n",
    "def directoryNameClean(string):\n",
    "    # This function removes any of the illegal characters for directories\n",
    "    illegalChars = ['\\\\','#','%','&','{','}','<','>','*','?','/',' ','$','!',\"'\",'\"',':','@','+','`','|','=']\n",
    "    \n",
    "    for char in illegalChars:\n",
    "        for i in range(len(string)):\n",
    "            if string[i] == char:\n",
    "                string = string[:i] + string[i+1:]\n",
    "                break\n",
    "    return string"
   ]
  },
  {
   "cell_type": "code",
   "execution_count": 50,
   "metadata": {
    "tags": []
   },
   "outputs": [
    {
     "name": "stdout",
     "output_type": "stream",
     "text": [
      "\\a#a%a&a{a}a<a>a*a?a/a a$a!a'a\"a:a@a+a`a|a=a\n",
      "aaaaaaaaaaaaaaaaaaaaaa\n"
     ]
    }
   ],
   "source": [
    "# Testing the illegal character removal function. ```re.sub``` didn't work for whatever reason, something about nothing being at 0, despite that not being an expected behavior. Difficulty iterating over multiple chars? Also didn't take backslashes at all.\n",
    "\n",
    "illegalChars = ['\\\\','#','%','&','{','}','<','>','*','?','/',' ','$','!',\"'\",'\"',':','@','+','`','|','=']\n",
    "newstring=''\n",
    "\n",
    "for char in illegalChars:\n",
    "    newstring = newstring + char + 'a'\n",
    "    \n",
    "print(newstring)\n",
    "\n",
    "print(dirNameClean(newstring))"
   ]
  },
  {
   "cell_type": "code",
   "execution_count": 5,
   "metadata": {
    "tags": []
   },
   "outputs": [],
   "source": [
    "#| hide\n",
    "import nbdev; nbdev.nbdev_export()"
   ]
  }
 ],
 "metadata": {
  "kernelspec": {
   "display_name": "Python 3 (ipykernel)",
   "language": "python",
   "name": "python3"
  },
  "language_info": {
   "codemirror_mode": {
    "name": "ipython",
    "version": 3
   },
   "file_extension": ".py",
   "mimetype": "text/x-python",
   "name": "python",
   "nbconvert_exporter": "python",
   "pygments_lexer": "ipython3",
   "version": "3.8.17"
  }
 },
 "nbformat": 4,
 "nbformat_minor": 4
}
