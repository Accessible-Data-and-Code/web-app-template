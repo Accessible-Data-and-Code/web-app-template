{
 "cells": [
  {
   "cell_type": "markdown",
   "metadata": {},
   "source": [
    "# manuscriptFiles\n",
    "\n",
    "> This module has commands to handle the manuscript file structure and relates the annotation application to files saved in the manuscripts folder"
   ]
  },
  {
   "cell_type": "code",
   "execution_count": 1,
   "metadata": {
    "tags": []
   },
   "outputs": [],
   "source": [
    "#| default_exp core"
   ]
  },
  {
   "cell_type": "code",
   "execution_count": 2,
   "metadata": {
    "tags": []
   },
   "outputs": [],
   "source": [
    "#| hide\n",
    "from nbdev.showdoc import *"
   ]
  },
  {
   "cell_type": "code",
   "execution_count": 2,
   "metadata": {
    "tags": []
   },
   "outputs": [],
   "source": [
    "#| export\n",
    "import os\n",
    "import io\n",
    "import cv2\n",
    "import numpy as np"
   ]
  },
  {
   "cell_type": "markdown",
   "metadata": {},
   "source": [
    "The ```createManuscriptDirectory``` function creates a new manuscript directory from scratch, including:\n",
    "- a manuscript image folder\n",
    "- an annotation states folder\n",
    "- a metadata file\n",
    "- a folder for exported transcriptions\n",
    "- a folder for imported transcriptions\n",
    "\n",
    "This function relies on two methods: ```directoryNameClean``` and ```dictToList```. These are simple calls for simple purposes, but just complicated enough to warrant their own functions for future optimizations."
   ]
  },
  {
   "cell_type": "code",
   "execution_count": 11,
   "metadata": {},
   "outputs": [],
   "source": [
    "#| export\n",
    "def createManuscriptDirectory(metadata:dict):\n",
    "    # This function creates a directory and metadata file for a new manuscript and returns the new manuscript root directory\n",
    "    \n",
    "    # Establishing the baseDirectory the web app is running in\n",
    "    baseDirectory = os.getcwd()\n",
    "    os.chdir('manuscripts')\n",
    "    allManuscriptsDirectory = os.getcwd()\n",
    "\n",
    "    # Creating the root directory for a new manuscript\n",
    "    title = directoryNameClean(metadata['Work'])\n",
    "    manuscriptDirectory = os.path.join(allManuscriptsDirectory,title)\n",
    "    os.mkdir(manuscriptDirectory)\n",
    "    \n",
    "    # Creating directories\n",
    "    imagesDirectory = os.path.join(manuscriptDirectory,'images')\n",
    "    os.mkdir(imagesDirectory)\n",
    "    statesDirectory = os.path.join(manuscriptDirectory,'states')\n",
    "    os.mkdir(statesDirectory)\n",
    "    exportTranscriptDirectory = os.path.join(manuscriptDirectory,'exportTranscripts')\n",
    "    os.mkdir(exportTranscriptDirectory)\n",
    "    importTranscriptDirectory = os.path.join(manuscriptDirectory,'importTranscripts')\n",
    "    os.mkdir(importTranscriptDirectory)\n",
    "    \n",
    "    # Creating metadata file as config file\n",
    "    os.chdir(manuscriptDirectory)\n",
    "    f = open(title + '.cfg', 'w')\n",
    "    \n",
    "    # Writes relevant metadata to file\n",
    "    printable = dictToList(metadata)\n",
    "    for data in printable:\n",
    "        f.write(data + '\\n')\n",
    "    \n",
    "    os.chdir(baseDirectory)\n",
    "    \n",
    "    return manuscriptDirectory"
   ]
  },
  {
   "cell_type": "code",
   "execution_count": 12,
   "metadata": {
    "tags": []
   },
   "outputs": [
    {
     "data": {
      "text/plain": [
       "'C:\\\\Users\\\\David\\\\web-app-template\\\\manuscripts\\\\physics'"
      ]
     },
     "execution_count": 12,
     "metadata": {},
     "output_type": "execute_result"
    }
   ],
   "source": [
    "Euclid = {\n",
    "    'Work': 'Elements',\n",
    "    'Author': 'Euclid',\n",
    "    'Language': 'Greek',\n",
    "    'Country': 'Egpyt',\n",
    "    'City': 'Alexandria',\n",
    "    'Institution': 'The Great Library',\n",
    "    'Centuries': '3rd century BC'\n",
    "}\n",
    "\n",
    "createManuscriptDirectory(Euclid)\n",
    "\n",
    "Plato = {\n",
    "    'Work': 'Symposium',\n",
    "    'Author': 'Plato',\n",
    "    'Language': 'Greek',\n",
    "    'Country': 'Greece',\n",
    "    'City': 'Athens',\n",
    "    'Institution': 'The Academy',\n",
    "    'Centuries': '4th century BC'\n",
    "}\n",
    "\n",
    "createManuscriptDirectory(Plato)\n",
    "\n",
    "Aristotle = {\n",
    "    'Work': 'Physics',\n",
    "    'Author': 'Aristotle',\n",
    "    'Language': 'Greek',\n",
    "    'Country': 'Greece',\n",
    "    'City': 'Athens',\n",
    "    'Institution': 'The Academy',\n",
    "    'Centuries': '4th century BC'\n",
    "}\n",
    "\n",
    "createManuscriptDirectory(Aristotle)"
   ]
  },
  {
   "cell_type": "markdown",
   "metadata": {},
   "source": [
    "The ```dictToList``` function creates a printable list out of a dictionary that keeps keys separate from the items stored to them and creates a list that can be printed to a file, specifically the manuscript ```title.cfg``` file."
   ]
  },
  {
   "cell_type": "code",
   "execution_count": 4,
   "metadata": {
    "tags": []
   },
   "outputs": [],
   "source": [
    "#| export\n",
    "def dictToList(thisdict:dict):\n",
    "    # This function turns a dictionary into a list of printable strings\n",
    "    keys = []\n",
    "    for key in thisdict.keys():\n",
    "        keys.append(key)\n",
    "\n",
    "    values = []\n",
    "    for value in thisdict.values():\n",
    "        values.append(value)\n",
    "    \n",
    "    printable = []\n",
    "    for i in range(len(keys)):\n",
    "        printable.append(str(keys[i]) + ':' + str(values[i]))\n",
    "    \n",
    "    return printable"
   ]
  },
  {
   "cell_type": "code",
   "execution_count": 7,
   "metadata": {
    "tags": []
   },
   "outputs": [
    {
     "name": "stdout",
     "output_type": "stream",
     "text": [
      "brand:Ford\n",
      "model:Mustang\n",
      "year:1964\n"
     ]
    }
   ],
   "source": [
    "# Testing dictToList\n",
    "\n",
    "thisdict = {\n",
    "  \"brand\": \"Ford\",\n",
    "  \"model\": \"Mustang\",\n",
    "  \"year\": 1964\n",
    "}\n",
    "\n",
    "printable = dictToList(thisdict)\n",
    "\n",
    "for i in range(len(printable)):\n",
    "    print(printable[i])"
   ]
  },
  {
   "cell_type": "markdown",
   "metadata": {},
   "source": [
    "The ```directoryNameClean``` function removes the characters from a string that are not allowed characters for a directory name. It is called in other manuscript file methods and is indirectly used to generate a folder key for the select manuscripts. It also cuts down the length of the title to no more than 26 characters to avoid creating excessively long directory titles and surpassing the 260 character limit. While it is unlikely for the path limit to be reached, caution is good."
   ]
  },
  {
   "cell_type": "code",
   "execution_count": 10,
   "metadata": {
    "tags": []
   },
   "outputs": [],
   "source": [
    "#| export\n",
    "def directoryNameClean(string):\n",
    "    # This function removes any of the illegal characters for directories\n",
    "    illegalChars = ['\\\\','#','%','&','{','}','<','>','*','?','/',' ','$','!',\"'\",'\"',':','@','+','`','|','=']\n",
    "    \n",
    "    for char in illegalChars:\n",
    "        for i in range(len(string)):\n",
    "            if string[i] == char:\n",
    "                string = string[:i] + string[i+1:]\n",
    "                break\n",
    "    \n",
    "    if len(string) > 26:\n",
    "        string = string[0:26]\n",
    "    \n",
    "    return string.lower()"
   ]
  },
  {
   "cell_type": "code",
   "execution_count": 9,
   "metadata": {
    "tags": []
   },
   "outputs": [
    {
     "name": "stdout",
     "output_type": "stream",
     "text": [
      "\\aaaa#aaaa%aaaa&aaaa{aaaa}aaaa<aaaa>aaaa*aaaa?aaaa/aaaa aaaa$aaaa!aaaa'aaaa\"aaaa:aaaa@aaaa+aaaa`aaaa|aaaa=aaaa\n",
      "26\n"
     ]
    }
   ],
   "source": [
    "# Testing the directoryNameClean function. ```re.sub``` didn't work for whatever reason, something about nothing being at 0, despite that not being an expected behavior. Difficulty iterating over multiple chars? Also didn't take backslashes at all.\n",
    "\n",
    "illegalChars = ['\\\\','#','%','&','{','}','<','>','*','?','/',' ','$','!',\"'\",'\"',':','@','+','`','|','=']\n",
    "newstring=''\n",
    "\n",
    "for char in illegalChars:\n",
    "    newstring = newstring + char + 'aaaa'\n",
    "    \n",
    "print(newstring)\n",
    "\n",
    "print(len(directoryNameClean(newstring)))"
   ]
  },
  {
   "cell_type": "markdown",
   "metadata": {},
   "source": [
    "The ```saveImage``` function takes image content from the upload widget value dictionary and saves them as files to the relevant manuscripts folder. Borrows code from [Ulrich Stern's answer](https://stackoverflow.com/a/54162776/1628638) and iterates over the elements of the dictionary with that code. It takes the arguments:\n",
    "- ```files```: a dictionary with image data for several images keyed in memory\n",
    "- ```targetDirectory```: a path to some targetDirectory for image saving\n",
    "\n",
    "Passed into the ```files``` argument **MUST** be a ```<FileUpload widget>.value``` key from an uploader with image data. This contains the memory locations for the images."
   ]
  },
  {
   "cell_type": "code",
   "execution_count": 13,
   "metadata": {
    "tags": []
   },
   "outputs": [],
   "source": [
    "#| export\n",
    "def saveImages(files:dict, targetDirectory):\n",
    "    # This function saves content from memory into storage using the keys in the passed files dict (from a FileUpload widget)\n",
    "    # This \n",
    "    current = os.getcwd()\n",
    "    os.chdir(os.path.join(targetDirectory, 'images'))\n",
    "    \n",
    "    # Not sure what exactly this does, this is what I borrowed\n",
    "    for i in range(len(files)):\n",
    "        # I think this takes the content from the memory marker and reads it into Python readable code\n",
    "        img_stream = io.BytesIO(uploader.value[i]['content'])\n",
    "        # I have no clue why Numpy is needed here (probably some ungodly matrices and formats), but this turns the data into a cv2 readable image\n",
    "        img = cv2.imdecode(np.frombuffer(img_stream.read(), np.uint8), 1)\n",
    "        # This writes an image to some target directory\n",
    "        cv2.imwrite(uploader.value[i]['name'], img)\n",
    "        \n",
    "    os.chdir(current)"
   ]
  },
  {
   "cell_type": "code",
   "execution_count": 11,
   "metadata": {
    "tags": []
   },
   "outputs": [
    {
     "data": {
      "application/vnd.jupyter.widget-view+json": {
       "model_id": "cb7469630234423aaf35f2db979cfc9e",
       "version_major": 2,
       "version_minor": 0
      },
      "text/plain": [
       "FileUpload(value=(), description='Upload Manuscript Images', layout=Layout(height='auto', width='auto'), multi…"
      ]
     },
     "execution_count": 11,
     "metadata": {},
     "output_type": "execute_result"
    }
   ],
   "source": [
    "# testing for saveImages\n",
    "import ipywidgets as widgets\n",
    "\n",
    "uploader = widgets.FileUpload(\n",
    "    accept = '',  # Accepted file extension e.g. '.txt', '.pdf', 'image/*', 'image/*,.pdf'\n",
    "    multiple = True,  # True to accept multiple files upload else False\n",
    "    description = 'Upload Manuscript Images',\n",
    "    layout = widgets.Layout(height='auto', width='auto')\n",
    ")\n",
    "uploader"
   ]
  },
  {
   "cell_type": "markdown",
   "metadata": {},
   "source": [
    "We also want a function that can search through the current directories in manuscripts and find all the manuscripts in the directory to return the metadata of the manuscripts. To that end, we have the ```currentManuscripts``` function."
   ]
  },
  {
   "cell_type": "code",
   "execution_count": 41,
   "metadata": {
    "tags": []
   },
   "outputs": [],
   "source": [
    "#| export\n",
    "\n",
    "def currentManuscripts():\n",
    "    # If this is run on any computer, it will have a unique structure\n",
    "    current = os.getcwd()\n",
    "    manuscriptDirectory = os.path.join(current,'manuscripts')\n",
    "    \n",
    "    # This is necessary to keep directories accessible. Without os.path.join, we can't keep a full directory name and access files inside specific directories\n",
    "    directories = []\n",
    "    for path in os.listdir(manuscriptDirectory):\n",
    "        directories.append(os.path.join(manuscriptDirectory,path))\n",
    "    \n",
    "    # This is necessary to store metadata from .cfg files\n",
    "    manuscriptMetadata = []\n",
    "    \n",
    "    # This is necessary to search each directory in the manuscripts folder\n",
    "    for directory in directories:\n",
    "        # This looks through each file in a given directory\n",
    "        for file in os.listdir(directory):\n",
    "            # This opens config files and reads metadata from them\n",
    "            if file.endswith('.cfg'):\n",
    "                fileDirectory = os.path.join(directory,file)\n",
    "                f = open(fileDirectory, 'r')\n",
    "                metadata = {}\n",
    "\n",
    "                for line in f:\n",
    "                    key, value = line.split(':')\n",
    "                    metadata[key] = value[:-1]\n",
    "\n",
    "                manuscriptMetadata.append([directory, metadata])\n",
    "            \n",
    "    return manuscriptMetadata"
   ]
  },
  {
   "cell_type": "code",
   "execution_count": 42,
   "metadata": {
    "tags": []
   },
   "outputs": [
    {
     "name": "stdout",
     "output_type": "stream",
     "text": [
      "3\n",
      "['C:\\\\Users\\\\David\\\\web-app-template\\\\manuscripts\\\\elements', {'Work': 'Elements', 'Author': 'Euclid', 'Language': 'Greek', 'Country': 'Egpyt', 'City': 'Alexandria', 'Institution': 'The Great Library', 'Centuries': '3rd century BC'}]\n",
      "['C:\\\\Users\\\\David\\\\web-app-template\\\\manuscripts\\\\physics', {'Work': 'Physics', 'Author': 'Aristotle', 'Language': 'Greek', 'Country': 'Greece', 'City': 'Athens', 'Institution': 'The Academy', 'Centuries': '4th century BC'}]\n",
      "['C:\\\\Users\\\\David\\\\web-app-template\\\\manuscripts\\\\symposium', {'Work': 'Symposium', 'Author': 'Plato', 'Language': 'Greek', 'Country': 'Greece', 'City': 'Athens', 'Institution': 'The Academy', 'Centuries': '4th century BC'}]\n"
     ]
    }
   ],
   "source": [
    "test = currentManuscripts()\n",
    "\n",
    "print(len(test))\n",
    "\n",
    "for metadata in test:\n",
    "    print(metadata)"
   ]
  },
  {
   "cell_type": "code",
   "execution_count": 5,
   "metadata": {
    "tags": []
   },
   "outputs": [],
   "source": [
    "#| hide\n",
    "import nbdev; nbdev.nbdev_export()"
   ]
  }
 ],
 "metadata": {
  "kernelspec": {
   "display_name": "Python 3 (ipykernel)",
   "language": "python",
   "name": "python3"
  },
  "language_info": {
   "codemirror_mode": {
    "name": "ipython",
    "version": 3
   },
   "file_extension": ".py",
   "mimetype": "text/x-python",
   "name": "python",
   "nbconvert_exporter": "python",
   "pygments_lexer": "ipython3",
   "version": "3.11.4"
  }
 },
 "nbformat": 4,
 "nbformat_minor": 4
}
