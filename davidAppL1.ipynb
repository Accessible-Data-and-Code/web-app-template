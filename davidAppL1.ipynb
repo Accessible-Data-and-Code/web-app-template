{
 "cells": [
  {
   "cell_type": "code",
   "execution_count": 167,
   "id": "7360f520-2ce2-49ab-b5bc-29c09ce49e3b",
   "metadata": {
    "tags": []
   },
   "outputs": [],
   "source": [
    "import ipywidgets as widgets\n",
    "import os\n",
    "import io"
   ]
  },
  {
   "cell_type": "code",
   "execution_count": 163,
   "id": "4e5587ca-c13d-4728-b759-ce47a0389d9f",
   "metadata": {
    "tags": []
   },
   "outputs": [],
   "source": [
    "class Main(widgets.Tab):\n",
    "    \n",
    "    \n",
    "    ## Object oriented approach, inheriting Tab class\n",
    "    def __init__(self):\n",
    "        super().__init__()\n",
    "        \n",
    "        # artifacts from template\n",
    "        self.button2 = widgets.Button(button_style = 'success', description = 'Self Number 2')\n",
    "        self.button3 = widgets.Button(button_style = 'success', description = 'Self Number 3')\n",
    "        \n",
    "        \n",
    "        \n",
    "        ### Layout for the first tab\n",
    "        self.layout1 = widgets.GridspecLayout(4,3)\n",
    "        \n",
    "        \n",
    "        ## Manuscript selection pane\n",
    "        # folder path\n",
    "        dir_path = \"manuscript_directory\"\n",
    "\n",
    "        # Eventually, this will need to search a manuscript info file inside of each manuscript directory so that the files can\n",
    "        # be read exclusively as manuscripts rather than picking up flotsam like .ipynb_checkpoints as well as being able to\n",
    "        # display a full manuscript title instead of a directory name\n",
    "        manuscripts = []\n",
    "        for path in os.scandir(dir_path):\n",
    "            if path.is_dir():\n",
    "                manuscripts.append(path.name)\n",
    "                \n",
    "        self.manuscriptSelection = widgets.Select(\n",
    "            options=manuscripts,\n",
    "            value=manuscripts[0],\n",
    "            rows=10,\n",
    "            disabled=False,\n",
    "            layout=widgets.Layout(height='auto', width='auto')\n",
    "        )\n",
    "        \n",
    "        self.layout1[:3, 1:] = self.manuscriptSelection\n",
    "        \n",
    "        ## Info Pane\n",
    "        infoPane = widgets.HTML(value=\"<h2>Info Pane</h2>\\\n",
    "                                <p>This menu allows you to upload new manuscripts and access previously uploaded manuscripts.\\\n",
    "                                The uploader will accept only .xml and image files.\\\n",
    "                                For testing purposes, it only accepts images right now.<p>\",)\n",
    "        self.layout1[:, 0] = infoPane\n",
    "        \n",
    "        \n",
    "        \n",
    "        ## New Manuscript\n",
    "        self.newMan = widgets.FileUpload(\n",
    "            accept = '',  # Accepted file extension e.g. '.txt', '.pdf', 'image/*', 'image/*,.pdf'\n",
    "            multiple = True,  # True to accept multiple files upload else False\n",
    "            description = 'Upload New Manuscript',\n",
    "            layout = widgets.Layout(height='auto', width='auto')\n",
    "        )\n",
    "        self.layout1[3, 1] = self.newMan\n",
    "        \n",
    "        \n",
    "        ## Select Manuscript\n",
    "        self.selMan = Main.create_expanded_button('Select Manuscript', 'primary')\n",
    "        self.layout1[3, 2] = self.selMan\n",
    "        \n",
    "        self.selMan.on_click(self.on_click_selMan)\n",
    "        \n",
    "        # artifacts from template\n",
    "        self.box2 = widgets.Box((self.button2, ))\n",
    "        self.box3 = widgets.Box((self.button3, ))\n",
    "        \n",
    "        self.children = (self.layout1, self.box2, self.box3)\n",
    "    \n",
    "    # For Tab 1\n",
    "    def on_click_selMan(self, null):\n",
    "        # Why does passing anything in always have two arguments when self is all that is used\n",
    "        self.selected_index = 1\n",
    "    \n",
    "#    def on_click_newMan(self, null):\n",
    "        \n",
    "        \n",
    "    # Artifact of layout development. Remove when needed:\n",
    "    def create_expanded_button(description, button_style):\n",
    "        return widgets.Button(description=description, button_style=button_style, layout=widgets.Layout(height='auto', width='auto'))"
   ]
  },
  {
   "cell_type": "code",
   "execution_count": 164,
   "id": "f9ba7365-b8b3-44a6-bc36-eea5e2092610",
   "metadata": {
    "tags": []
   },
   "outputs": [
    {
     "data": {
      "application/vnd.jupyter.widget-view+json": {
       "model_id": "1f7340d2632a4455bf4f5713298f8b02",
       "version_major": 2,
       "version_minor": 0
      },
      "text/plain": [
       "Main(children=(GridspecLayout(children=(Select(layout=Layout(grid_area='widget001', height='auto', width='auto…"
      ]
     },
     "execution_count": 164,
     "metadata": {},
     "output_type": "execute_result"
    }
   ],
   "source": [
    "tab2 = Main()\n",
    "\n",
    "tab2"
   ]
  },
  {
   "cell_type": "code",
   "execution_count": 135,
   "id": "446b1cce-8afa-4737-a9b8-baae82dd2363",
   "metadata": {
    "tags": []
   },
   "outputs": [
    {
     "data": {
      "application/vnd.jupyter.widget-view+json": {
       "model_id": "1d4d53caea424408a0f9c3125fc3637f",
       "version_major": 2,
       "version_minor": 0
      },
      "text/plain": [
       "FileUpload(value=(), description='Upload a New Manuscript')"
      ]
     },
     "execution_count": 135,
     "metadata": {},
     "output_type": "execute_result"
    }
   ],
   "source": [
    "newMan = widgets.FileUpload(\n",
    "    accept='',  # Accepted file extension e.g. '.txt', '.pdf', 'image/*', 'image/*,.pdf'\n",
    "    multiple=False,  # True to accept multiple files upload else False\n",
    "    description = 'Upload a New Manuscript'\n",
    ")\n",
    "newMan"
   ]
  },
  {
   "cell_type": "code",
   "execution_count": 141,
   "id": "6842101b-b37b-4f97-bc40-fe6896d6eecb",
   "metadata": {
    "tags": []
   },
   "outputs": [
    {
     "data": {
      "text/plain": [
       "({'name': 'R.jpg',\n",
       "  'type': 'image/jpeg',\n",
       "  'size': 311113,\n",
       "  'content': <memory at 0x00000242EB575640>,\n",
       "  'last_modified': datetime.datetime(2023, 7, 5, 19, 7, 14, 408000, tzinfo=datetime.timezone.utc)},)"
      ]
     },
     "execution_count": 141,
     "metadata": {},
     "output_type": "execute_result"
    }
   ],
   "source": [
    "newMan.value"
   ]
  },
  {
   "cell_type": "code",
   "execution_count": 166,
   "id": "8216ba12-ea5b-46b9-bea0-7b8efded09b1",
   "metadata": {
    "tags": []
   },
   "outputs": [],
   "source": [
    "image = newMan.value[0].content.tobytes()"
   ]
  },
  {
   "cell_type": "code",
   "execution_count": 120,
   "id": "cbd334a6-682e-4416-9f26-e3120f66c526",
   "metadata": {
    "tags": []
   },
   "outputs": [],
   "source": [
    "with open(\"./saved-output.txt\", \"wb\") as fp:\n",
    "    fp.write(uploader.value[0].content)"
   ]
  },
  {
   "cell_type": "code",
   "execution_count": null,
   "id": "fd5176bb-7f8b-40f6-8c6a-b5f64ea740e6",
   "metadata": {},
   "outputs": [],
   "source": []
  }
 ],
 "metadata": {
  "kernelspec": {
   "display_name": "Python 3 (ipykernel)",
   "language": "python",
   "name": "python3"
  },
  "language_info": {
   "codemirror_mode": {
    "name": "ipython",
    "version": 3
   },
   "file_extension": ".py",
   "mimetype": "text/x-python",
   "name": "python",
   "nbconvert_exporter": "python",
   "pygments_lexer": "ipython3",
   "version": "3.8.17"
  }
 },
 "nbformat": 4,
 "nbformat_minor": 5
}
