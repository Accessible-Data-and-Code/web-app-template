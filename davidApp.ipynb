{
 "cells": [
  {
   "cell_type": "code",
   "execution_count": 1,
   "id": "17145e7b-e4cb-4623-8add-6aa9f9907af9",
   "metadata": {
    "tags": []
   },
   "outputs": [],
   "source": [
    "import ipywidgets as widgets"
   ]
  },
  {
   "cell_type": "code",
   "execution_count": 31,
   "id": "bbdc0088-ae38-4b4c-9cf8-35fbbc3b81f7",
   "metadata": {
    "tags": []
   },
   "outputs": [],
   "source": [
    "class Main(widgets.Tab):\n",
    "    \n",
    "    \n",
    "    ## Object oriented approach, inheriting Tab class\n",
    "    def __init__(self):\n",
    "        super().__init__()\n",
    "        \n",
    "        self.button1 = widgets.Button(button_style = 'success', description = 'Self Number 1')\n",
    "        self.button2 = widgets.Button(button_style = 'success', description = 'Self Number 2')\n",
    "        self.button3 = widgets.Button(button_style = 'success', description = 'Self Number 3')\n",
    "        \n",
    "        self.box1 = widgets.Box((self.button1, ))\n",
    "        self.box2 = widgets.Box((self.button2, ))\n",
    "        self.box3 = widgets.Box((self.button3, ))\n",
    "        \n",
    "        self.children = (self.box1, self.box2, self.box3)\n",
    "        \n",
    "        self.button1.on_click(self.on_click_btn1)\n",
    "        self.button2.on_click(self.on_click_btn1)\n",
    "        self.button3.on_click(self.on_click_btn1)\n",
    "        \n",
    "    def on_click_btn1(self, null):\n",
    "        # Why does passing anything in always have two arguments when self is all that is used\n",
    "        self.selected_index = 1"
   ]
  },
  {
   "cell_type": "code",
   "execution_count": 32,
   "id": "5b2db388-dd37-4ad6-b4f1-0af15f4b7daf",
   "metadata": {
    "tags": []
   },
   "outputs": [],
   "source": [
    "tab2 = Main()"
   ]
  },
  {
   "cell_type": "code",
   "execution_count": 33,
   "id": "f79ee7c0-ccff-4dc7-bd5a-c1f4881211f3",
   "metadata": {
    "tags": []
   },
   "outputs": [
    {
     "data": {
      "application/vnd.jupyter.widget-view+json": {
       "model_id": "619c3660c944446ebe7b6ec6fd25d7a2",
       "version_major": 2,
       "version_minor": 0
      },
      "text/plain": [
       "Main(children=(Box(children=(Button(button_style='success', description='Self Number 1', style=ButtonStyle()),…"
      ]
     },
     "execution_count": 33,
     "metadata": {},
     "output_type": "execute_result"
    }
   ],
   "source": [
    "tab2"
   ]
  },
  {
   "cell_type": "code",
   "execution_count": null,
   "id": "a40181dd-57a3-4ae0-8ffa-42e28b110489",
   "metadata": {},
   "outputs": [],
   "source": [
    "\n",
    "\n"
   ]
  }
 ],
 "metadata": {
  "kernelspec": {
   "display_name": "Python 3 (ipykernel)",
   "language": "python",
   "name": "python3"
  },
  "language_info": {
   "codemirror_mode": {
    "name": "ipython",
    "version": 3
   },
   "file_extension": ".py",
   "mimetype": "text/x-python",
   "name": "python",
   "nbconvert_exporter": "python",
   "pygments_lexer": "ipython3",
   "version": "3.8.17"
  }
 },
 "nbformat": 4,
 "nbformat_minor": 5
}
