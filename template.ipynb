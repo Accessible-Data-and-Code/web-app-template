{
 "cells": [
  {
   "cell_type": "code",
   "execution_count": 1,
   "id": "17145e7b-e4cb-4623-8add-6aa9f9907af9",
   "metadata": {
    "tags": []
   },
   "outputs": [],
   "source": [
    "import ipywidgets as widgets"
   ]
  },
  {
   "cell_type": "code",
   "execution_count": 2,
   "id": "bbdc0088-ae38-4b4c-9cf8-35fbbc3b81f7",
   "metadata": {
    "tags": []
   },
   "outputs": [],
   "source": [
    "class Main(widgets.Tab):\n",
    "    \n",
    "    \n",
    "    ## Object oriented approach, inheriting Tab class\n",
    "    def __init__(self):\n",
    "        super().__init__()\n",
    "        \n",
    "        self.button1 = widgets.Button(button_style = 'success', description = 'Self Number 1')\n",
    "        self.button2 = widgets.Button(button_style = 'success', description = 'Self Number 2')\n",
    "        self.button3 = widgets.Button(button_style = 'success', description = 'Self Number 3')\n",
    "        \n",
    "        self.box1 = widgets.Box((self.button1, ))\n",
    "        self.box2 = widgets.Box((self.button2, ))\n",
    "        self.box3 = widgets.Box((self.button3, ))\n",
    "        \n",
    "        self.children = (self.box1, self.box2, self.box3)\n",
    "        \n",
    "        self.button1.on_click(self.on_click_btn1)\n",
    "        self.button2.on_click(self.on_click_btn1)\n",
    "        self.button3.on_click(self.on_click_btn1)\n",
    "        \n",
    "    def on_click_btn1(self, null):\n",
    "        # Why does passing anything in always have two arguments when self is all that is used\n",
    "        self.selected_index = 1"
   ]
  },
  {
   "cell_type": "code",
   "execution_count": 3,
   "id": "5b2db388-dd37-4ad6-b4f1-0af15f4b7daf",
   "metadata": {
    "tags": []
   },
   "outputs": [],
   "source": [
    "tab2 = Main()"
   ]
  },
  {
   "cell_type": "code",
   "execution_count": 4,
   "id": "f79ee7c0-ccff-4dc7-bd5a-c1f4881211f3",
   "metadata": {
    "tags": []
   },
   "outputs": [
    {
     "data": {
      "application/vnd.jupyter.widget-view+json": {
       "model_id": "ead84999250d4f7382897336a0517aa3",
       "version_major": 2,
       "version_minor": 0
      },
      "text/plain": [
       "Main(children=(Box(children=(Button(button_style='success', description='Self Number 1', style=ButtonStyle()),…"
      ]
     },
     "execution_count": 4,
     "metadata": {},
     "output_type": "execute_result"
    }
   ],
   "source": [
    "tab2"
   ]
  },
  {
   "cell_type": "code",
   "execution_count": 34,
   "id": "e3d5d575-db6a-46bd-9050-8e629e12aa26",
   "metadata": {
    "tags": []
   },
   "outputs": [],
   "source": [
    "class Main(widgets.Tab):\n",
    "    \n",
    "    \n",
    "    ## Object oriented approach, inheriting Tab class\n",
    "    def __init__(self):\n",
    "        super().__init__()\n",
    "        \n",
    "        self.button1 = widgets.Button(button_style = 'success', description = 'Self Number 1')\n",
    "        self.button2 = widgets.Button(button_style = 'success', description = 'Self Number 2')\n",
    "        self.button3 = widgets.Button(button_style = 'success', description = 'Self Number 3')\n",
    "        \n",
    "        # Layout for the first pane\n",
    "        self.layout1 = widgets.GridspecLayout(4,3)\n",
    "        \n",
    "        self.layout1[:3, 1:] = create_expanded_button('Manuscript List', 'success')\n",
    "        self.layout1[:, 0] = create_expanded_button('Info Pane', 'info')\n",
    "        self.layout1[3, 1] = create_expanded_button('New Manuscript', 'warning')\n",
    "        self.layout1[3, 2] = create_expanded_button('Select Manuscript', 'danger')\n",
    "        \n",
    "        self.box2 = widgets.Box((self.button2, ))\n",
    "        self.box3 = widgets.Box((self.button3, ))\n",
    "        \n",
    "        self.children = (self.layout1, self.box2, self.box3)\n",
    "        \n",
    "        self.button1.on_click(self.on_click_btn1)\n",
    "        self.button2.on_click(self.on_click_btn1)\n",
    "        self.button3.on_click(self.on_click_btn1)\n",
    "        \n",
    "    def on_click_btn1(self, null):\n",
    "        # Why does passing anything in always have two arguments when self is all that is used\n",
    "        self.selected_index = 1\n",
    "        \n",
    "    # Artifact of layout development. Remove when needed:\n",
    "    def create_expanded_button(description, button_style):\n",
    "        return widgets.Button(description=description, button_style=button_style, layout=widgets.Layout(height='auto', width='auto'))"
   ]
  },
  {
   "cell_type": "code",
   "execution_count": 35,
   "id": "b6ff75d0-c9a7-48c2-8695-a6f85623e812",
   "metadata": {
    "tags": []
   },
   "outputs": [],
   "source": [
    "tab2 = Main()"
   ]
  },
  {
   "cell_type": "code",
   "execution_count": 36,
   "id": "59f8f50b-f889-4dd2-a131-541a88540735",
   "metadata": {
    "tags": []
   },
   "outputs": [
    {
     "data": {
      "application/vnd.jupyter.widget-view+json": {
       "model_id": "56bf938cb5a6407188c43150fe78b79e",
       "version_major": 2,
       "version_minor": 0
      },
      "text/plain": [
       "Main(children=(GridspecLayout(children=(Button(button_style='success', description='Manuscript List', layout=L…"
      ]
     },
     "execution_count": 36,
     "metadata": {},
     "output_type": "execute_result"
    }
   ],
   "source": [
    "tab2"
   ]
  },
  {
   "cell_type": "code",
   "execution_count": 30,
   "id": "a40181dd-57a3-4ae0-8ffa-42e28b110489",
   "metadata": {},
   "outputs": [
    {
     "data": {
      "application/vnd.jupyter.widget-view+json": {
       "model_id": "6ed8319ebe0745338c22071105f2a25b",
       "version_major": 2,
       "version_minor": 0
      },
      "text/plain": [
       "GridspecLayout(children=(Button(button_style='success', description='Manuscript List', layout=Layout(grid_area…"
      ]
     },
     "execution_count": 30,
     "metadata": {},
     "output_type": "execute_result"
    }
   ],
   "source": [
    "height = 4\n",
    "width = 3\n",
    "\n",
    "grid = widgets.GridspecLayout(height, width)\n",
    "\n",
    "def create_expanded_button(description, button_style):\n",
    "    return widgets.Button(description=description, button_style=button_style, layout=widgets.Layout(height='auto', width='auto'))\n",
    "\n",
    "for i in range(height):\n",
    "    for j in range(width):\n",
    "        grid[i, j] = create_expanded_button('Button {} - {}'.format(i, j), 'warning')\n",
    "\n",
    "grid[:3, 1:] = create_expanded_button('Manuscript List', 'success')\n",
    "grid[:, 0] = create_expanded_button('Info Pane', 'info')\n",
    "grid[3, 1] = create_expanded_button('New Manuscript', 'warning')\n",
    "grid[3, 2] = create_expanded_button('Select Manuscript', 'danger')\n",
    "grid"
   ]
  },
  {
   "cell_type": "markdown",
   "id": "f0c95552-6a14-4722-a454-fd937e89f092",
   "metadata": {},
   "source": [
    "To make a widget span several columns and/or rows, you can use slice notation ([source](https://ipywidgets.readthedocs.io/en/latest/examples/Layout%20Templates.html)):"
   ]
  },
  {
   "cell_type": "code",
   "execution_count": null,
   "id": "029c7076-d782-46cd-918a-ed75ab6f2cb1",
   "metadata": {},
   "outputs": [],
   "source": [
    "grid = GridspecLayout(4, 3, height='300px')\n",
    "grid[:3, 1:] = create_expanded_button('One', 'success')\n",
    "grid[:, 0] = create_expanded_button('Two', 'info')\n",
    "grid[3, 1] = create_expanded_button('Three', 'warning')\n",
    "grid[3, 2] = create_expanded_button('Four', 'danger')\n",
    "grid"
   ]
  }
 ],
 "metadata": {
  "kernelspec": {
   "display_name": "Python 3 (ipykernel)",
   "language": "python",
   "name": "python3"
  },
  "language_info": {
   "codemirror_mode": {
    "name": "ipython",
    "version": 3
   },
   "file_extension": ".py",
   "mimetype": "text/x-python",
   "name": "python",
   "nbconvert_exporter": "python",
   "pygments_lexer": "ipython3",
   "version": "3.8.17"
  }
 },
 "nbformat": 4,
 "nbformat_minor": 5
}
