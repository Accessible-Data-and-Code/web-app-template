{
 "cells": [
  {
   "cell_type": "code",
   "execution_count": 10,
   "id": "17145e7b-e4cb-4623-8add-6aa9f9907af9",
   "metadata": {
    "tags": []
   },
   "outputs": [],
   "source": [
    "import ipywidgets as widgets"
   ]
  },
  {
   "cell_type": "code",
   "execution_count": 21,
   "id": "bbdc0088-ae38-4b4c-9cf8-35fbbc3b81f7",
   "metadata": {
    "tags": []
   },
   "outputs": [],
   "source": [
    "class Main(widgets.Tab):\n",
    "    \n",
    "    \n",
    "    ## Object oriented approach, inheriting Tab class\n",
    "    def __init__(self):\n",
    "        super().__init__()\n",
    "        \n",
    "        self.button1 = widgets.Button(button_style = 'success', description = 'Self Number 1')\n",
    "        self.button2 = widgets.Button(button_style = 'success', description = 'Self Number 2')\n",
    "        self.button3 = widgets.Button(button_style = 'success', description = 'Self Number 3')\n",
    "        \n",
    "        self.children = (self.button1, self.button2, self.button3)\n",
    "        \n",
    "        self.button1.on_click(self.on_click_btn1)\n",
    "        \n",
    "    def on_click_btn1(self, btn):\n",
    "        self.selected_index = 1"
   ]
  },
  {
   "cell_type": "code",
   "execution_count": 19,
   "id": "5b2db388-dd37-4ad6-b4f1-0af15f4b7daf",
   "metadata": {
    "tags": []
   },
   "outputs": [],
   "source": [
    "tab2 = Main()"
   ]
  },
  {
   "cell_type": "code",
   "execution_count": 20,
   "id": "f79ee7c0-ccff-4dc7-bd5a-c1f4881211f3",
   "metadata": {
    "tags": []
   },
   "outputs": [
    {
     "data": {
      "application/vnd.jupyter.widget-view+json": {
       "model_id": "ba2940c3272b4a48ba6400fe567ac720",
       "version_major": 2,
       "version_minor": 0
      },
      "text/plain": [
       "Main(children=(Button(button_style='success', description='Self Number 1', style=ButtonStyle()), Button(button…"
      ]
     },
     "execution_count": 20,
     "metadata": {},
     "output_type": "execute_result"
    }
   ],
   "source": [
    "tab2"
   ]
  },
  {
   "cell_type": "code",
   "execution_count": null,
   "id": "a40181dd-57a3-4ae0-8ffa-42e28b110489",
   "metadata": {},
   "outputs": [],
   "source": [
    "\n",
    "\n"
   ]
  }
 ],
 "metadata": {
  "kernelspec": {
   "display_name": "Python 3 (ipykernel)",
   "language": "python",
   "name": "python3"
  },
  "language_info": {
   "codemirror_mode": {
    "name": "ipython",
    "version": 3
   },
   "file_extension": ".py",
   "mimetype": "text/x-python",
   "name": "python",
   "nbconvert_exporter": "python",
   "pygments_lexer": "ipython3",
   "version": "3.8.17"
  }
 },
 "nbformat": 4,
 "nbformat_minor": 5
}
